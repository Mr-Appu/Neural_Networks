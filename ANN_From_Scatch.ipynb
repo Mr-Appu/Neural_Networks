{
  "nbformat": 4,
  "nbformat_minor": 0,
  "metadata": {
    "colab": {
      "provenance": [],
      "collapsed_sections": []
    },
    "kernelspec": {
      "name": "python3",
      "display_name": "Python 3"
    },
    "language_info": {
      "name": "python"
    }
  },
  "cells": [
    {
      "cell_type": "code",
      "execution_count": 1,
      "metadata": {
        "id": "c8rVD7jcAOcR"
      },
      "outputs": [],
      "source": [
        "import numpy as np\n",
        "import random\n",
        "import matplotlib.pyplot as plt\n",
        "np.random.seed(42)"
      ]
    },
    {
      "cell_type": "code",
      "source": [
        "#Training Data\n",
        "x1 = np.array([1,1,0,0])\n",
        "x2 = np.array([1,0,0,1,])\n",
        "\n",
        "y = np.array([1,1,0,0]).reshape(-1,1) #Column Matrix\n",
        "\n",
        "sample = len(x1)"
      ],
      "metadata": {
        "id": "ecVd2P8PBjuh"
      },
      "execution_count": 2,
      "outputs": []
    },
    {
      "cell_type": "code",
      "source": [
        "input = np.array([x1,x2]).T\n",
        "print(\"Input Shape : \",input.shape)\n",
        "print(\"Output Shape : \",y.shape)"
      ],
      "metadata": {
        "id": "ry5YuQhQCLky",
        "colab": {
          "base_uri": "https://localhost:8080/"
        },
        "outputId": "0ce368d8-9c80-491b-820c-f5de3f558c79"
      },
      "execution_count": 3,
      "outputs": [
        {
          "output_type": "stream",
          "name": "stdout",
          "text": [
            "Input Shape :  (4, 2)\n",
            "Output Shape :  (4, 1)\n"
          ]
        }
      ]
    },
    {
      "cell_type": "code",
      "source": [
        "#Defininig sigmoid and its derivative\n",
        "def sigmoid(x):\n",
        "  return 1 / (1 + np.exp(-x))\n",
        "\n",
        "def sigmoid_derivative(x):\n",
        "  return x * (1-x);"
      ],
      "metadata": {
        "id": "Y9XeY-yJCOI-"
      },
      "execution_count": 4,
      "outputs": []
    },
    {
      "cell_type": "code",
      "source": [
        "#Defining no of Neurons\n",
        "input_neuron = 2\n",
        "hidden_neuron = 2\n",
        "output_neuron = 1"
      ],
      "metadata": {
        "id": "luRDmTxJCYTu"
      },
      "execution_count": 5,
      "outputs": []
    },
    {
      "cell_type": "code",
      "source": [
        "#Assigning random weights\n",
        "w1 = np.random.rand(input_neuron,hidden_neuron)\n",
        "w2 = np.random.rand(hidden_neuron,output_neuron)\n",
        "print(\"W1 Shape : \",w1.shape)\n",
        "print(\"W2 Shape : \",w2.shape)"
      ],
      "metadata": {
        "id": "-1gVaKFGmxpu",
        "colab": {
          "base_uri": "https://localhost:8080/"
        },
        "outputId": "c70d55a8-bc69-45d0-a95b-6263ccbee034"
      },
      "execution_count": 6,
      "outputs": [
        {
          "output_type": "stream",
          "name": "stdout",
          "text": [
            "W1 Shape :  (2, 2)\n",
            "W2 Shape :  (2, 1)\n"
          ]
        }
      ]
    },
    {
      "cell_type": "code",
      "source": [
        "#Forward Propagation\n",
        "def forward_propagation(x,w1,w2):\n",
        "  z1 = np.dot(x,w1);\n",
        "  a1 = sigmoid(z1)\n",
        "  z2 = np.dot(a1,w2)\n",
        "  a2 = sigmoid(z2)\n",
        "  return z1,a1,z2,a2\n",
        "\n",
        "#Backward Propagation\n",
        "def backward_propagation(w1,w2,z1,z2,a1,a2,y):\n",
        "  dz2 = a2 - y\n",
        "  dw2 = np.dot(a1.T,dz2)/sample\n",
        "  dz1 = np.dot(dw2,dz2.T) * sigmoid_derivative(a1.T)\n",
        "  dw1 = np.dot(dz1,input).T/sample\n",
        "  return dz2,dw2,dz1,dw1\n"
      ],
      "metadata": {
        "id": "-hF0JDpAm2Hk"
      },
      "execution_count": 7,
      "outputs": []
    },
    {
      "cell_type": "code",
      "source": [
        "l = []\n",
        "epochs = 1000\n",
        "\n",
        "learning_rate = 0.1\n",
        "\n",
        "for i in range(epochs):\n",
        "  z1,a1,z2,a2 = forward_propagation(input,w1,w2)\n",
        "  #Loss Function => cross entropy\n",
        "  loss = -(1/sample)*np.sum(y*np.log(a2) + (1-y)*np.log(1-a2))\n",
        "  l.append(loss)\n",
        "  _,dw2,_,dw1 = backward_propagation(w1,w2,z1,z2,a1,a2,y)\n",
        "  w2 = w2 - 0.1*dw2\n",
        "  w1 = w1 - 0.1*dw1\n",
        "  \n",
        "plt.plot(l)"
      ],
      "metadata": {
        "colab": {
          "base_uri": "https://localhost:8080/",
          "height": 282
        },
        "id": "UGAgM4MJIrAq",
        "outputId": "483b5b0a-b0fb-4cbd-8490-c1fc741345a2"
      },
      "execution_count": 8,
      "outputs": [
        {
          "output_type": "execute_result",
          "data": {
            "text/plain": [
              "[<matplotlib.lines.Line2D at 0x7f561ff997d0>]"
            ]
          },
          "metadata": {},
          "execution_count": 8
        },
        {
          "output_type": "display_data",
          "data": {
            "text/plain": [
              "<Figure size 432x288 with 1 Axes>"
            ],
            "image/png": "[encoded data removed]"
          },
          "metadata": {
            "needs_background": "light"
          }
        }
      ]
    },
    {
      "cell_type": "code",
      "source": [
        "_,_,_,a2 = forward_propagation(input,w1,w2)\n",
        "a2"
      ],
      "metadata": {
        "colab": {
          "base_uri": "https://localhost:8080/"
        },
        "id": "pccMwgjHgmVy",
        "outputId": "e9f88989-c74e-42c2-f0fc-89e500588db2"
      },
      "execution_count": 9,
      "outputs": [
        {
          "output_type": "execute_result",
          "data": {
            "text/plain": [
              "array([[0.56994897],\n",
              "       [0.57444756],\n",
              "       [0.53301882],\n",
              "       [0.53680323]])"
            ]
          },
          "metadata": {},
          "execution_count": 9
        }
      ]
    },
    {
      "cell_type": "code",
      "source": [
        "_,_,_,out = forward_propagation(np.array([0,0]),w1,w2)\n",
        "fun = lambda fun : 1 if(fun >= 0.5) else 0\n",
        "print(\"F(0,0) => \",fun(out))"
      ],
      "metadata": {
        "id": "CPHacm4xkSiz",
        "colab": {
          "base_uri": "https://localhost:8080/"
        },
        "outputId": "d2776f27-d097-4d01-d650-9d6f40c0e82e"
      },
      "execution_count": 10,
      "outputs": [
        {
          "output_type": "stream",
          "name": "stdout",
          "text": [
            "F(0,0) =>  1\n"
          ]
        }
      ]
    },
    {
      "cell_type": "code",
      "source": [
        "_,_,_,out = forward_propagation(np.array([1,0]),w1,w2)\n",
        "fun = lambda fun : 1 if(fun >= 0.5) else 0\n",
        "print(\"F(0,0) => \",fun(out))"
      ],
      "metadata": {
        "colab": {
          "base_uri": "https://localhost:8080/"
        },
        "id": "gemZ1MddkHBm",
        "outputId": "89a61dec-ffec-4e30-8b17-b085cec52cec"
      },
      "execution_count": 11,
      "outputs": [
        {
          "output_type": "stream",
          "name": "stdout",
          "text": [
            "F(0,0) =>  1\n"
          ]
        }
      ]
    },
    {
      "cell_type": "code",
      "source": [
        "_,_,_,out = forward_propagation(np.array([0,1]),w1,w2)\n",
        "fun = lambda fun : 1 if(fun >= 0.5) else 0\n",
        "print(\"F(0,0) => \",fun(out))"
      ],
      "metadata": {
        "colab": {
          "base_uri": "https://localhost:8080/"
        },
        "id": "IZQkmTGRkH7V",
        "outputId": "4ce274e8-ebd8-4857-a541-a675197e7583"
      },
      "execution_count": 12,
      "outputs": [
        {
          "output_type": "stream",
          "name": "stdout",
          "text": [
            "F(0,0) =>  1\n"
          ]
        }
      ]
    },
    {
      "cell_type": "code",
      "source": [
        "_,_,_,out = forward_propagation(np.array([1,1]),w1,w2)\n",
        "fun = lambda fun : 1 if(fun >= 0.5) else 0\n",
        "print(\"F(0,0) => \",fun(out))"
      ],
      "metadata": {
        "colab": {
          "base_uri": "https://localhost:8080/"
        },
        "id": "WaAGS-lUldBa",
        "outputId": "142c6e96-f235-46ea-ef4f-56558ec98b00"
      },
      "execution_count": 13,
      "outputs": [
        {
          "output_type": "stream",
          "name": "stdout",
          "text": [
            "F(0,0) =>  1\n"
          ]
        }
      ]
    }
  ]
}